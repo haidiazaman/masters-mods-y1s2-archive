{
 "cells": [
  {
   "cell_type": "markdown",
   "metadata": {},
   "source": [
    "# Accuracy of truncated basis expansions\n",
    "\n",
    "In this notebook, we will investigate the accuracy of truncated basis expansions for scalar functions $[-1, 1] \\to \\R$."
   ]
  },
  {
   "cell_type": "code",
   "execution_count": null,
   "metadata": {},
   "outputs": [],
   "source": [
    "import numpy as np\n",
    "import seaborn as sns; sns.set()\n",
    "import matplotlib.pyplot as plt\n",
    "from typing import Callable"
   ]
  },
  {
   "cell_type": "markdown",
   "metadata": {},
   "source": [
    "## Basis functions\n",
    "\n",
    "We will first define several classes of basis functions."
   ]
  },
  {
   "cell_type": "markdown",
   "metadata": {},
   "source": [
    "### Fourier basis\n",
    "\n",
    "We first look at perhaps the most well-known set of basis functions, the *Fourier basis*, consisting of sines and cosines\n",
    "$$\n",
    "    \\begin{aligned}\n",
    "        w_0(x) &= 1 \\\\\n",
    "        w_1(x) &= \\sin(\\pi x) \\\\\n",
    "        w_2(x) &= \\cos(\\pi x) \\\\\n",
    "        w_3(x) &= \\sin(2\\pi x) \\\\\n",
    "        w_4(x) &= \\cos(2\\pi x) \\\\\n",
    "        &\\vdots\n",
    "    \\end{aligned}\n",
    "$$\n",
    "\n",
    "There are orthogonal with respect to the inner product\n",
    "$$\n",
    "    (w_i, w_j) := \\int_{-1}^{1} w_i(x) w_j(x) dx = \\text{constant} \\times \\delta_{ij}.\n",
    "$$\n"
   ]
  },
  {
   "cell_type": "code",
   "execution_count": null,
   "metadata": {},
   "outputs": [],
   "source": [
    "def fourier_basis(x: np.ndarray, num_components: int) -> np.ndarray:\n",
    "    \"\"\"\n",
    "    Generate a Fourier basis with the specified number of components.\n",
    "\n",
    "    Parameters:\n",
    "    - x: Input array of shape (num_samples,) containing the values at which to evaluate the basis functions.\n",
    "    - num_components: Number of Fourier components to generate.\n",
    "\n",
    "    Returns:\n",
    "    - basis: Fourier basis array of shape (num_samples, num_components).\n",
    "    \"\"\"\n",
    "    num_samples = len(x)\n",
    "    basis = np.zeros((num_samples, num_components))\n",
    "\n",
    "    for i in range(num_components):\n",
    "        freq = ((i + 1) // 2) * np.pi  # Calculate the frequency of the current component\n",
    "        basis[:, i] = np.cos(freq * x) if i % 2 == 0 else np.sin(freq * x)  # Evaluate the basis function\n",
    "\n",
    "    return basis"
   ]
  },
  {
   "cell_type": "markdown",
   "metadata": {},
   "source": [
    "Now, let us visualise the first 4 basis components..."
   ]
  },
  {
   "cell_type": "code",
   "execution_count": null,
   "metadata": {},
   "outputs": [],
   "source": [
    "num_components = 4\n",
    "num_samples = 128\n",
    "x = np.linspace(-1, 1, num_samples)  # uniformly spaced samples\n"
   ]
  },
  {
   "cell_type": "code",
   "execution_count": null,
   "metadata": {},
   "outputs": [],
   "source": [
    "def plot_features(inputs: np.ndarray, basis: Callable[[np.ndarray, int], np.ndarray], num_components: int) -> None:\n",
    "    \"\"\"\n",
    "    Plot the features of a basis expansion.\n",
    "\n",
    "    Parameters:\n",
    "    - inputs: Input array of shape (num_samples,) containing the x-values.\n",
    "    - features: Feature array of shape (num_samples, num_components) containing the basis expansion features.\n",
    "    - num_components: Number of basis components.\n",
    "    - feature_name: Name of the basis expansion.\n",
    "\n",
    "    Returns:\n",
    "    - None\n",
    "    \"\"\"\n",
    "\n",
    "    # compute (w_1(x), w_2(x), ..., w_4(x))^T\n",
    "    features = basis(x, num_components)\n",
    "\n",
    "    # Create subplots with the specified number of rows and one column\n",
    "    fig, ax = plt.subplots(num_components, 1, figsize=(1.5*num_components, 7), layout=\"constrained\")\n",
    "\n",
    "    # Iterate over each feature and its corresponding axis\n",
    "    for i, (f, a) in enumerate(zip(features.T, ax)):\n",
    "        # Plot the feature values against the inputs\n",
    "        a.plot(inputs, f, label=f'{basis.__name__} {i}')\n",
    "        a.legend(loc='upper right')"
   ]
  },
  {
   "cell_type": "code",
   "execution_count": null,
   "metadata": {},
   "outputs": [],
   "source": [
    "plot_features(inputs=x, basis=fourier_basis, num_components=num_components)"
   ]
  },
  {
   "cell_type": "markdown",
   "metadata": {},
   "source": [
    "### Legendre basis\n",
    "\n",
    "Next, we consider an alternative basis consisting of orthogonal polynomials called *Legendre polynomials*.\n",
    "\n",
    "Let $P_k$ ($k\\geq 0$) denote the $k$-th Legendre polynomial.\n",
    "\n",
    "The simplest definition of Legendre polynomials can be constructed iteratively, by requiring the following conditions\n",
    "- $P_k$ is a degree of polynomial of degree $k$\n",
    "- $P_k(1)=1$ (standardisation)\n",
    "- $\\int_{-1}^{1} P_i(x) P_j(x) dx = \\text{Constant} \\times \\delta_{ij}$ (orthogonality)\n",
    "\n",
    "Let us see some examples\n",
    "1. $k=0$: $P_0(x) = 1$ is the only possible choice\n",
    "2. $k=1$: $P_1(x) = ax + b$ satisfies the first condition, and second condition forces $a+b = 1$, and the last condition forces $b=0$, thus $P_1(x)=x$\n",
    "3. $k=2$: Using a similar argument, this time requiring orthogonality to both $P_0$ and $P_1$, $P_2(x) = (3x^2 - 1)/2$\n",
    "4. $k=3$: $P_3 = (5x^3 - 3x)/2$\n",
    "5. ...\n",
    "\n",
    "There are many applications of Legendre polynomials\n",
    "- Originally studied by [Adrien-Marie Legendre](https://en.wikipedia.org/wiki/Adrien-Marie_Legendre) in electrostatics and universal law of gravitation\n",
    "- Multipole expansions for electrostatic analysis\n",
    "- Improving the training of sequence-to-sequence state-space models for natural language and related applications (https://proceedings.neurips.cc/paper/2019/file/952285b9b7e7a1be5aa7849f32ffff05-Paper.pdf)"
   ]
  },
  {
   "cell_type": "markdown",
   "metadata": {},
   "source": [
    "To geenerate Legendre polynomials, we can simply call the ready-made routine `np.polynomial.legendre.legval`."
   ]
  },
  {
   "cell_type": "code",
   "execution_count": null,
   "metadata": {},
   "outputs": [],
   "source": [
    "def legendre_basis(x: np.ndarray, num_components: int) -> np.ndarray:\n",
    "    \"\"\"\n",
    "    Generate a Legendre basis with the specified number of components.\n",
    "\n",
    "    Parameters:\n",
    "    - x: Input array of shape (num_samples,) containing the values at which to evaluate the basis functions.\n",
    "    - num_components: Number of Legendre components to generate.\n",
    "\n",
    "    Returns:\n",
    "    - basis: Legendre basis array of shape (num_samples, num_components).\n",
    "    \"\"\"\n",
    "    num_samples = len(x)\n",
    "    basis = np.zeros((num_samples, num_components))\n",
    "\n",
    "    for i in range(num_components):\n",
    "        # Calculate the Legendre polynomial coefficients for the current component\n",
    "        coefficients = [0] * i + [1]\n",
    "        basis[:, i] = np.polynomial.legendre.legval(x, coefficients)  # Evaluate the basis function\n",
    "\n",
    "    return basis"
   ]
  },
  {
   "cell_type": "markdown",
   "metadata": {},
   "source": [
    "Let us plot the first 4 Legendre polynomials. Observe that they look quite different from the Fourier basis functions."
   ]
  },
  {
   "cell_type": "code",
   "execution_count": null,
   "metadata": {},
   "outputs": [],
   "source": [
    "plot_features(inputs=x, basis=legendre_basis, num_components=num_components)"
   ]
  },
  {
   "cell_type": "markdown",
   "metadata": {},
   "source": [
    "### Radial basis functions\n",
    "\n",
    "Now, we consider a very different type of basis functions, the *radial basis functions*.\n",
    "\n",
    "These have the form\n",
    "$$\n",
    "    w_k(x) = \\exp(-\\lambda (x - c_k)^2)\n",
    "$$\n",
    "where the radial centers $c_k$ are chosen to be \"distributed\" more or less evenly in the domain of interest $[-1,1]$.\n",
    "\n",
    "Notice that in general, these are not orthogonal in $L^2([-1,1])$!"
   ]
  },
  {
   "cell_type": "code",
   "execution_count": null,
   "metadata": {},
   "outputs": [],
   "source": [
    "def radial_basis(x: np.ndarray, num_components: int) -> np.ndarray:\n",
    "    \"\"\"\n",
    "    Generate a radial basis with the specified number of components.\n",
    "\n",
    "    Parameters:\n",
    "    - x: Input array of shape (num_samples,) containing the values at which to evaluate the basis functions.\n",
    "    - num_components: Number of radial components to generate.\n",
    "\n",
    "    Returns:\n",
    "    - basis: Radial basis array of shape (num_samples, num_components).\n",
    "    \"\"\"\n",
    "    num_samples = len(x)\n",
    "    basis = np.zeros((num_samples, num_components))\n",
    "    centers = np.linspace(-1, 1, num_components)\n",
    "\n",
    "    for i, c in enumerate(centers):\n",
    "        # Calculate the radial basis function for the current component\n",
    "        basis[:, i] = np.exp(-5 * (x - c) ** 2)  # Evaluate the basis function\n",
    "\n",
    "    return basis"
   ]
  },
  {
   "cell_type": "markdown",
   "metadata": {},
   "source": [
    "Let us look at the first 4 radial basis functions for $\\lambda = 5$, and $\\{c_k\\}$ are equally spaced in $[-1,1]$.\n",
    "Other choices are of course possible!"
   ]
  },
  {
   "cell_type": "code",
   "execution_count": null,
   "metadata": {},
   "outputs": [],
   "source": [
    "plot_features(inputs=x, basis=radial_basis, num_components=num_components)"
   ]
  },
  {
   "cell_type": "markdown",
   "metadata": {},
   "source": [
    "## Error of truncated expansion"
   ]
  },
  {
   "cell_type": "markdown",
   "metadata": {},
   "source": [
    "Now, given a target function $f:[-1,1]\\to\\R$, we consider the truncated approximation\n",
    "$$\n",
    "    \\hat{f}_n(x) = \\sum_{k=1}^{n} a_k w_k(x)\n",
    "$$\n",
    "where $w_k(x)$ are the various basis elements defined above, and $a_k$ can be fitted via ordinary least squares."
   ]
  },
  {
   "cell_type": "markdown",
   "metadata": {},
   "source": [
    "### Identity function\n",
    "\n",
    "Let us first look at the target function $f(x) = x$."
   ]
  },
  {
   "cell_type": "code",
   "execution_count": null,
   "metadata": {},
   "outputs": [],
   "source": [
    "def identity(x: np.ndarray) -> np.ndarray:\n",
    "    return x\n",
    "\n",
    "plt.plot(x, identity(x))\n",
    "plt.xlabel(r\"$x$\")\n",
    "plt.ylabel(r\"$f(x)$\")"
   ]
  },
  {
   "cell_type": "markdown",
   "metadata": {},
   "source": [
    "We use the `LinearRegression` routine to fit the coefficients $\\{a_k\\}$."
   ]
  },
  {
   "cell_type": "code",
   "execution_count": null,
   "metadata": {},
   "outputs": [],
   "source": [
    "from sklearn.linear_model import LinearRegression\n",
    "import numpy as np\n",
    "\n",
    "def fit(func: np.ndarray, x: np.ndarray, basis: callable, num_components: int) -> tuple:\n",
    "    \"\"\"\n",
    "    Fit the coefficients of the truncated expansion using linear regression.\n",
    "\n",
    "    Parameters:\n",
    "    - func: Target function to approximate.\n",
    "    - x: Input array of shape (num_samples,) containing the values at which to evaluate the basis functions.\n",
    "    - basis: Basis function to use for the expansion.\n",
    "    - num_components: Maximum number of basis components to use.\n",
    "\n",
    "    Returns:\n",
    "    - scores: List of R^2 scores for each number of components.\n",
    "    - predictions: List of predicted values for each number of components.\n",
    "    \"\"\"\n",
    "\n",
    "    scores, predictions = [], []\n",
    "\n",
    "    # Iterate over each number of components\n",
    "    for N in range(1, num_components+1):\n",
    "        basis_x = basis(x, N)  # Generate the basis features\n",
    "        reg = LinearRegression().fit(basis_x, func(x))  # Fit the coefficients\n",
    "        score = reg.score(basis_x, func(x))  # Calculate the R^2 score\n",
    "        prediction = reg.predict(basis_x)  # Make predictions\n",
    "        scores.append(score)\n",
    "        predictions.append(prediction)\n",
    "\n",
    "    return scores, predictions"
   ]
  },
  {
   "cell_type": "code",
   "execution_count": null,
   "metadata": {},
   "outputs": [],
   "source": [
    "def analyse(func: Callable[[np.ndarray], np.ndarray], basis: Callable[[np.ndarray, int], np.ndarray], inputs: np.ndarray, num_components: int) -> None:\n",
    "    \"\"\"\n",
    "    Analyze the accuracy of truncated basis expansions.\n",
    "\n",
    "    Parameters:\n",
    "    - func: Target function to approximate.\n",
    "    - basis: Basis function to use for the expansion.\n",
    "    - inputs: Input array of shape (num_samples,) containing the values at which to evaluate the basis functions.\n",
    "    - num_components: Maximum number of basis components to use.\n",
    "\n",
    "    Returns:\n",
    "    - None\n",
    "    \"\"\"\n",
    "\n",
    "    # Fit the coefficients and calculate the R^2 scores\n",
    "    scores, predictions = fit(func=func, x=inputs, basis=basis, num_components=num_components)\n",
    "\n",
    "    # Create a mosaic plot layout\n",
    "    mosaic = np.asarray([['a)', 'e)'], ['b)', 'e)'], ['c)', 'e)'], ['d)', 'e)']]).T\n",
    "\n",
    "    # Create a figure and subplots\n",
    "    fig, ax = plt.subplot_mosaic(mosaic, layout='constrained', figsize=(15, 6))\n",
    "    fig.suptitle(f'Target: {func.__name__}, Basis: {basis.__name__}')\n",
    "\n",
    "    # Plot the R^2 scores\n",
    "    ax['e)'].plot(range(1, num_components+1), scores, '-o')\n",
    "    ax['e)'].set_ylabel(r'$R^2$')\n",
    "    ax['e)'].set_xlabel(r'$N$')\n",
    "    ax['e)'].set_ylim(0, 1.1)\n",
    "\n",
    "    # Plot the target function and predicted values for each number of components\n",
    "    for label in ['a)', 'b)', 'c)', 'd)']:\n",
    "        ax[label].set_ylabel(r'$f(x)$')\n",
    "        ax[label].set_xlabel(r'$x$')\n",
    "        ax[label].plot(inputs, func(inputs), '--', label='True')\n",
    "        for n in range(num_components):\n",
    "            ax[label].plot(inputs, predictions[n], label=f'N={n+1}')\n",
    "        ax[label].legend()"
   ]
  },
  {
   "cell_type": "code",
   "execution_count": null,
   "metadata": {},
   "outputs": [],
   "source": [
    "analyse(func=identity, basis=fourier_basis, inputs=x, num_components=num_components)\n",
    "analyse(func=identity, basis=legendre_basis, inputs=x, num_components=num_components)\n",
    "analyse(func=identity, basis=radial_basis, inputs=x, num_components=num_components)"
   ]
  },
  {
   "cell_type": "markdown",
   "metadata": {},
   "source": [
    "Notice that **different basis sets have different approximation qualities at the same number of components**!"
   ]
  },
  {
   "cell_type": "markdown",
   "metadata": {},
   "source": [
    "### Square wave\n",
    "\n",
    "As a second example, we consider a target in the form of a square wave."
   ]
  },
  {
   "cell_type": "code",
   "execution_count": null,
   "metadata": {},
   "outputs": [],
   "source": [
    "import matplotlib.pyplot as plt\n",
    "\n",
    "def square_wave(x: np.ndarray) -> np.ndarray:\n",
    "    return 1.0 * (np.sin(2 * np.pi * x) > 0)\n",
    "\n",
    "plt.plot(x, square_wave(x))\n",
    "plt.xlabel(r\"$x$\")\n",
    "plt.ylabel(r\"$f(x)$\")"
   ]
  },
  {
   "cell_type": "markdown",
   "metadata": {},
   "source": [
    "Let's compare the truncated approximation qualities."
   ]
  },
  {
   "cell_type": "code",
   "execution_count": null,
   "metadata": {},
   "outputs": [],
   "source": [
    "analyse(func=square_wave, basis=fourier_basis, inputs=x, num_components=num_components)\n",
    "analyse(func=square_wave, basis=legendre_basis, inputs=x, num_components=num_components)\n",
    "analyse(func=square_wave, basis=radial_basis, inputs=x, num_components=num_components)"
   ]
  },
  {
   "cell_type": "markdown",
   "metadata": {},
   "source": [
    "Notice that, not only are the approximation qualities basis-dependent, **it is also target dependent**!"
   ]
  },
  {
   "cell_type": "markdown",
   "metadata": {},
   "source": [
    "### Rational function\n",
    "\n",
    "We confirm these points by considering a third target in the form of a rational function"
   ]
  },
  {
   "cell_type": "code",
   "execution_count": null,
   "metadata": {},
   "outputs": [],
   "source": [
    "def rational_function(x: np.ndarray) -> np.ndarray:\n",
    "    return (x - 1) / (1 + x**2)\n",
    "\n",
    "plt.plot(x, rational_function(x))\n",
    "plt.xlabel(r\"$x$\")\n",
    "plt.ylabel(r\"$f(x)$\")"
   ]
  },
  {
   "cell_type": "code",
   "execution_count": null,
   "metadata": {},
   "outputs": [],
   "source": [
    "analyse(func=rational_function, basis=fourier_basis, inputs=x, num_components=num_components)\n",
    "analyse(func=rational_function, basis=legendre_basis, inputs=x, num_components=num_components)\n",
    "analyse(func=rational_function, basis=radial_basis, inputs=x, num_components=num_components)"
   ]
  },
  {
   "cell_type": "markdown",
   "metadata": {},
   "source": [
    "## Summary\n",
    "\n",
    "We see here that\n",
    "- Different basis functions give different approximation qualities\n",
    "- Which basis is better depends on which target we are considering\n",
    "- How does one obtain the \"best\" possible basis?"
   ]
  }
 ],
 "metadata": {
  "kernelspec": {
   "display_name": "Python 3 (ipykernel)",
   "language": "python",
   "name": "python3"
  },
  "language_info": {
   "codemirror_mode": {
    "name": "ipython",
    "version": 3
   },
   "file_extension": ".py",
   "mimetype": "text/x-python",
   "name": "python",
   "nbconvert_exporter": "python",
   "pygments_lexer": "ipython3",
   "version": "3.11.5"
  }
 },
 "nbformat": 4,
 "nbformat_minor": 4
}
