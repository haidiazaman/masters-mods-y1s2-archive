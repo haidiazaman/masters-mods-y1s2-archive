{
 "cells": [
  {
   "cell_type": "code",
   "execution_count": 2,
   "id": "7a9f4c9b-58d6-475a-9d87-591912b26e3b",
   "metadata": {
    "tags": []
   },
   "outputs": [],
   "source": [
    "import numpy as np\n",
    "from tqdm import tqdm\n",
    "import matplotlib.pyplot as plt"
   ]
  },
  {
   "cell_type": "code",
   "execution_count": 3,
   "id": "72fc71a7-76f9-4753-bdd3-78673a3e61f1",
   "metadata": {
    "tags": []
   },
   "outputs": [
    {
     "name": "stdout",
     "output_type": "stream",
     "text": [
      "DMD modes are the eigenvectors of A\n",
      "\n",
      "eigenvalue: -2.0, eigenvector: [0.70710678 0.70710678]\n",
      "eigenvalue: -5.0, eigenvector: [-0.4472136   0.89442719]\n",
      "\n",
      "since eigenvalue = -10 has the largest magnitude\n",
      "leading DMD dynamic mode is [-0.4472136   0.89442719]\n"
     ]
    }
   ],
   "source": [
    "# 1a\n",
    "\n",
    "\n",
    "A = np.array([\n",
    "    [-3,1],\n",
    "    [2,-4]\n",
    "])\n",
    "\n",
    "\n",
    "eigenvalues, eigenvectors = np.linalg.eig(A)\n",
    "\n",
    "# The normalized (unit “length”) eigenvectors, such that the column eigenvectors[:,i] is the eigenvector corresponding to the eigenvalue eigenvalues[i].\n",
    "print('DMD modes are the eigenvectors of A\\n')\n",
    "for i in range(len(eigenvalues)):\n",
    "    print(f'eigenvalue: {eigenvalues[i]}, eigenvector: {eigenvectors[:,i]}')\n",
    "\n",
    "print()\n",
    "print(f'since eigenvalue = -10 has the largest magnitude')\n",
    "print(f'leading DMD dynamic mode is {eigenvectors[:,1]}')"
   ]
  },
  {
   "cell_type": "code",
   "execution_count": 4,
   "id": "1432741b-a16c-4d85-899a-d2a30b4d5271",
   "metadata": {
    "tags": []
   },
   "outputs": [
    {
     "data": {
      "text/plain": [
       "0.8944272"
      ]
     },
     "execution_count": 4,
     "metadata": {},
     "output_type": "execute_result"
    }
   ],
   "source": [
    "0.4472136*2"
   ]
  },
  {
   "cell_type": "code",
   "execution_count": 28,
   "id": "a11fe90a-4f27-4603-8dac-d834ff997a13",
   "metadata": {
    "tags": []
   },
   "outputs": [
    {
     "data": {
      "text/plain": [
       "(array([3.67879441e-01, 4.53999298e-05]),\n",
       " array([[1., 0.],\n",
       "        [0., 1.]]))"
      ]
     },
     "execution_count": 28,
     "metadata": {},
     "output_type": "execute_result"
    }
   ],
   "source": [
    "import math\n",
    "import numpy as np\n",
    "\n",
    "a = np.array([\n",
    "    [math.exp(-1),0],\n",
    "    [0,math.exp(-10)]\n",
    "])\n",
    "\n",
    "np.linalg.eig(a)"
   ]
  },
  {
   "cell_type": "code",
   "execution_count": 29,
   "id": "05806b0b-409e-4235-b71a-d47262a0dc2d",
   "metadata": {
    "tags": []
   },
   "outputs": [
    {
     "data": {
      "text/plain": [
       "(array([4.53999298e-05, 3.67879441e-01]),\n",
       " array([[0., 1.],\n",
       "        [1., 0.]]))"
      ]
     },
     "execution_count": 29,
     "metadata": {},
     "output_type": "execute_result"
    }
   ],
   "source": [
    "np.linalg.eigh(a)"
   ]
  },
  {
   "cell_type": "code",
   "execution_count": 2,
   "id": "b80ca6b3-a821-4e1d-bed8-d372078a9c15",
   "metadata": {
    "tags": []
   },
   "outputs": [
    {
     "name": "stdout",
     "output_type": "stream",
     "text": [
      "DMD modes are the eigenvectors of A\n",
      "\n",
      "eigenvalue: -1.0, eigenvector: [1. 0.]\n",
      "eigenvalue: -10.0, eigenvector: [0. 1.]\n",
      "\n",
      "since eigenvalue = -10 has the largest magnitude\n",
      "leading DMD dynamic mode is [0. 1.]\n"
     ]
    }
   ],
   "source": [
    "# 1a\n",
    "\n",
    "\n",
    "A = np.array([\n",
    "    [-1,0],\n",
    "    [0,-10]\n",
    "])\n",
    "\n",
    "\n",
    "eigenvalues, eigenvectors = np.linalg.eig(A)\n",
    "\n",
    "# The normalized (unit “length”) eigenvectors, such that the column eigenvectors[:,i] is the eigenvector corresponding to the eigenvalue eigenvalues[i].\n",
    "print('DMD modes are the eigenvectors of A\\n')\n",
    "for i in range(len(eigenvalues)):\n",
    "    print(f'eigenvalue: {eigenvalues[i]}, eigenvector: {eigenvectors[:,i]}')\n",
    "\n",
    "print()\n",
    "print(f'since eigenvalue = -10 has the largest magnitude')\n",
    "print(f'leading DMD dynamic mode is {eigenvectors[:,1]}')"
   ]
  },
  {
   "cell_type": "code",
   "execution_count": 46,
   "id": "dff01c7e-82db-485a-9e5f-74a1ffe89bc4",
   "metadata": {
    "tags": []
   },
   "outputs": [
    {
     "name": "stderr",
     "output_type": "stream",
     "text": [
      "100%|██████████| 1000/1000 [00:02<00:00, 377.02it/s]\n"
     ]
    },
    {
     "data": {
      "text/plain": [
       "((1000, 1000), (1000, 1000))"
      ]
     },
     "execution_count": 46,
     "metadata": {},
     "output_type": "execute_result"
    }
   ],
   "source": [
    "# # 1b\n",
    "# # Next, discretise the dynamics (1.1) in time (using the Euler method) with a time step of\n",
    "# # Δ𝑡 = 10−3\n",
    "# # . Sample the inputs 𝑥 (𝑡) ∼ N (0, 1), independently and identically distributed\n",
    "# # for each 𝑡\n",
    "\n",
    "# trajectories_X = []\n",
    "# trajectories_y = []\n",
    "\n",
    "# for _ in tqdm(range(10**3)):\n",
    "\n",
    "#     x_list,y_list = [],[] \n",
    "\n",
    "#     h1=0 # initial condition set to 0\n",
    "#     h2=0 # initial condition set to 0\n",
    "\n",
    "#     for _ in range(int(1/10**-3)):\n",
    "#         x = np.random.normal(0, 1)\n",
    "\n",
    "#         h1 = -h1 + 10**-3 * x\n",
    "#         h2 = -10*h2 + 10**3 *x\n",
    "#         y = 10**3 * h1 + 10**-3 * h2\n",
    "\n",
    "#         x_list.append(x)\n",
    "#         y_list.append(y)\n",
    "\n",
    "#     trajectories_X.append(x_list)\n",
    "#     trajectories_y.append(y_list)\n",
    "    \n",
    "# trajectories_X=np.array(trajectories_X)\n",
    "# trajectories_y=np.array(trajectories_y)\n",
    "# trajectories_X.shape,trajectories_y.shape"
   ]
  },
  {
   "cell_type": "code",
   "execution_count": 8,
   "id": "0accf34e-e5ea-48fa-80c5-572d4333437d",
   "metadata": {
    "tags": []
   },
   "outputs": [
    {
     "name": "stderr",
     "output_type": "stream",
     "text": [
      "100%|██████████| 1000/1000 [00:02<00:00, 350.07it/s]"
     ]
    },
    {
     "name": "stdout",
     "output_type": "stream",
     "text": [
      "num_trajectories: 1000, num_time_steps: 1001\n"
     ]
    },
    {
     "name": "stderr",
     "output_type": "stream",
     "text": [
      "\n"
     ]
    }
   ],
   "source": [
    "import numpy as np\n",
    "\n",
    "# Define parameters\n",
    "num_time_steps = 10**3\n",
    "num_trajectories = 10**3\n",
    "delta_t = 10**-3\n",
    "\n",
    "# Initialize arrays to store trajectories\n",
    "trajectories_h1 = np.zeros((num_time_steps+1,num_trajectories))\n",
    "trajectories_h2 = np.zeros((num_time_steps+1,num_trajectories))\n",
    "\n",
    "# Iterate over trajectories\n",
    "for i in tqdm(range(num_trajectories)):\n",
    "    # Initialize h1 and h2 for each trajectory\n",
    "    h1, h2 = 0, 0\n",
    "    \n",
    "    # Iterate over time steps\n",
    "    for j in range(num_time_steps+1):\n",
    "        # Sample input x\n",
    "        x = np.random.normal(0, 1)\n",
    "        \n",
    "        # Update h1 and h2 using Euler method\n",
    "        h1 += -delta_t * h1\n",
    "        h2 += -10 * delta_t * h2 + 10**-3 * delta_t * x\n",
    "        \n",
    "        # Store values\n",
    "        trajectories_h1[j, i] = h1\n",
    "        trajectories_h2[j, i] = h2\n",
    "        \n",
    "print(f'num_trajectories: {num_trajectories}, num_time_steps: {num_time_steps+1}')"
   ]
  },
  {
   "cell_type": "code",
   "execution_count": 30,
   "id": "36835296-b399-4deb-b977-d157db1456a6",
   "metadata": {
    "tags": []
   },
   "outputs": [
    {
     "name": "stderr",
     "output_type": "stream",
     "text": [
      "100%|██████████| 1000/1000 [00:02<00:00, 352.43it/s]"
     ]
    },
    {
     "name": "stdout",
     "output_type": "stream",
     "text": [
      "num_trajectories: 1000, num_time_steps: 1001\n",
      "(1000, 1000) (1000, 1000)\n",
      "(2, 1000000)\n",
      "the leading spatial mode is [0. 1.]\n"
     ]
    },
    {
     "name": "stderr",
     "output_type": "stream",
     "text": [
      "\n"
     ]
    }
   ],
   "source": [
    "import numpy as np\n",
    "\n",
    "# Define parameters\n",
    "num_time_steps = 10**3\n",
    "num_trajectories = 10**3\n",
    "delta_t = 10**-3\n",
    "\n",
    "# Initialize arrays to store trajectories\n",
    "trajectories_h1 = np.zeros((num_time_steps,num_trajectories))\n",
    "trajectories_h2 = np.zeros((num_time_steps,num_trajectories))\n",
    "\n",
    "# Iterate over trajectories\n",
    "for i in tqdm(range(num_trajectories)):\n",
    "    # Initialize h1 and h2 for each trajectory\n",
    "    h1, h2 = 0, 0\n",
    "    \n",
    "    # Iterate over time steps\n",
    "    for j in range(num_time_steps):\n",
    "        # Sample input x\n",
    "        x = np.random.normal(0, 1)\n",
    "        \n",
    "        # Update h1 and h2 using Euler method\n",
    "        h1 += -delta_t * h1\n",
    "        h2 += -10 * delta_t * h2 + 10**-3 * delta_t * x\n",
    "        \n",
    "        # Store values\n",
    "        trajectories_h1[j, i] = h1\n",
    "        trajectories_h2[j, i] = h2\n",
    "        \n",
    "print(f'num_trajectories: {num_trajectories}, num_time_steps: {num_time_steps+1}')\n",
    "\n",
    "print(trajectories_h1.shape,trajectories_h2.shape) # (time , spatial)\n",
    "\n",
    "stacked = np.stack([trajectories_h1.reshape(-1),trajectories_h2.reshape(-1)])\n",
    "print(stacked.shape)\n",
    "\n",
    "# Step 3: Compute covariance matrix\n",
    "covariance_matrix = np.cov(stacked)\n",
    "\n",
    "# Step 4: Compute eigenvalues and eigenvectors\n",
    "eigenvalues, eigenvectors = np.linalg.eig(covariance_matrix)\n",
    "\n",
    "# Step 5: Sort eigenvectors based on eigenvalues\n",
    "sorted_indices = np.argsort(eigenvalues)[::-1]\n",
    "sorted_eigenvalues = eigenvalues[sorted_indices]\n",
    "sorted_eigenvectors = eigenvectors[:, sorted_indices]\n",
    "\n",
    "# Step 6: Leading spatial POD mode\n",
    "leading_spatial_mode = sorted_eigenvectors[:, 0]\n",
    "\n",
    "print(f'the leading spatial mode is {leading_spatial_mode}')"
   ]
  },
  {
   "cell_type": "code",
   "execution_count": 66,
   "id": "7e2baecc-d2eb-4bd2-8e12-37e891b76a3b",
   "metadata": {
    "tags": []
   },
   "outputs": [
    {
     "name": "stdout",
     "output_type": "stream",
     "text": [
      "[ 1  4 10 16 22 22 15]\n",
      "[ 4 10 16 22 22]\n",
      "[10 16 22]\n"
     ]
    }
   ],
   "source": [
    "f = [1,2,3,4,5]\n",
    "g = [1,2,3]\n",
    "\n",
    "print(np.convolve(f,g,mode='full'))\n",
    "print(np.convolve(f,g,mode='same'))\n",
    "print(np.convolve(f,g,mode='valid'))"
   ]
  },
  {
   "cell_type": "code",
   "execution_count": 69,
   "id": "451880e3-94fb-4ea8-9f2b-f9c8d17d0018",
   "metadata": {
    "tags": []
   },
   "outputs": [
    {
     "name": "stdout",
     "output_type": "stream",
     "text": [
      "/Users/haidiazaman/Desktop/masters-mods/DSA5206\n"
     ]
    }
   ],
   "source": [
    "!pwd"
   ]
  },
  {
   "cell_type": "code",
   "execution_count": 25,
   "id": "8768e4a3-cdbd-4092-8432-b1238b10b311",
   "metadata": {
    "tags": []
   },
   "outputs": [
    {
     "data": {
      "text/plain": [
       "((1001, 1000), (1001, 1000))"
      ]
     },
     "execution_count": 25,
     "metadata": {},
     "output_type": "execute_result"
    }
   ],
   "source": [
    "trajectories_h1.shape,trajectories_h2.shape"
   ]
  },
  {
   "cell_type": "code",
   "execution_count": 27,
   "id": "b2736e12-c6bf-4606-be07-7d3046bdb002",
   "metadata": {
    "tags": []
   },
   "outputs": [
    {
     "data": {
      "text/plain": [
       "(2002, 2002)"
      ]
     },
     "execution_count": 27,
     "metadata": {},
     "output_type": "execute_result"
    }
   ],
   "source": [
    "np.cov(trajectories_h1,trajectories_h2).shape"
   ]
  },
  {
   "cell_type": "code",
   "execution_count": 28,
   "id": "13beb163-451d-4a4f-addc-dfbcbc701fd2",
   "metadata": {
    "tags": []
   },
   "outputs": [
    {
     "name": "stderr",
     "output_type": "stream",
     "text": [
      "  0%|          | 0/1000 [00:00<?, ?it/s]\n"
     ]
    },
    {
     "ename": "IndexError",
     "evalue": "index 1331 is out of bounds for axis 0 with size 1331",
     "output_type": "error",
     "traceback": [
      "\u001b[0;31m---------------------------------------------------------------------------\u001b[0m",
      "\u001b[0;31mIndexError\u001b[0m                                Traceback (most recent call last)",
      "\u001b[0;32m/var/folders/3k/vv9sv0rd0453t8myv393d4mr0000gn/T/ipykernel_1741/3645510829.py\u001b[0m in \u001b[0;36m<module>\u001b[0;34m\u001b[0m\n\u001b[1;32m     25\u001b[0m \u001b[0;34m\u001b[0m\u001b[0m\n\u001b[1;32m     26\u001b[0m         \u001b[0;31m# Store values\u001b[0m\u001b[0;34m\u001b[0m\u001b[0;34m\u001b[0m\u001b[0;34m\u001b[0m\u001b[0m\n\u001b[0;32m---> 27\u001b[0;31m         \u001b[0mtrajectories_h1\u001b[0m\u001b[0;34m[\u001b[0m\u001b[0mj\u001b[0m\u001b[0;34m,\u001b[0m \u001b[0mi\u001b[0m\u001b[0;34m]\u001b[0m \u001b[0;34m=\u001b[0m \u001b[0mh1\u001b[0m\u001b[0;34m\u001b[0m\u001b[0;34m\u001b[0m\u001b[0m\n\u001b[0m\u001b[1;32m     28\u001b[0m         \u001b[0mtrajectories_h2\u001b[0m\u001b[0;34m[\u001b[0m\u001b[0mj\u001b[0m\u001b[0;34m,\u001b[0m \u001b[0mi\u001b[0m\u001b[0;34m]\u001b[0m \u001b[0;34m=\u001b[0m \u001b[0mh2\u001b[0m\u001b[0;34m\u001b[0m\u001b[0;34m\u001b[0m\u001b[0m\n\u001b[1;32m     29\u001b[0m \u001b[0;34m\u001b[0m\u001b[0m\n",
      "\u001b[0;31mIndexError\u001b[0m: index 1331 is out of bounds for axis 0 with size 1331"
     ]
    }
   ],
   "source": [
    "import numpy as np\n",
    "\n",
    "# Define parameters\n",
    "num_time_steps = 11**3\n",
    "num_trajectories = 10**3\n",
    "delta_t = 10**-3\n",
    "\n",
    "# Initialize arrays to store trajectories\n",
    "trajectories_h1 = np.zeros((num_time_steps,num_trajectories))\n",
    "trajectories_h2 = np.zeros((num_time_steps,num_trajectories))\n",
    "\n",
    "# Iterate over trajectories\n",
    "for i in tqdm(range(num_trajectories)):\n",
    "    # Initialize h1 and h2 for each trajectory\n",
    "    h1, h2 = 0, 0\n",
    "    \n",
    "    # Iterate over time steps\n",
    "    for j in range(num_time_steps+1):\n",
    "        # Sample input x\n",
    "        x = np.random.normal(0, 1)\n",
    "        \n",
    "        # Update h1 and h2 using Euler method\n",
    "        h1 += -delta_t * h1\n",
    "        h2 += -10 * delta_t * h2 + 10**-3 * delta_t * x\n",
    "        \n",
    "        # Store values\n",
    "        trajectories_h1[j, i] = h1\n",
    "        trajectories_h2[j, i] = h2\n",
    "        \n",
    "print(f'num_trajectories: {num_trajectories}, num_time_steps: {num_time_steps+1}')\n",
    "print(trajectories_h1.shape,trajectories_h2.shape)\n",
    "\n",
    "# reshape\n",
    "# vstack(trajectories_h1,trajectories_h2) --> shape (2,1k,1k)\n",
    "\n",
    "# after POD --> 2,1 column vector (tj answer -1,0)\n",
    "\n",
    "# POD \n",
    "# Step 1: Compute mean trajectory - time averaging\n",
    "print('perform time averaging - take mean across time dimension')\n",
    "# np.mean(x,axis=0) means taking average across column, axis=1 means take ave across row\n",
    "# mean_trajectory_h1 = np.mean(trajectories_h1, axis=0)\n",
    "# mean_trajectory_h2 = np.mean(trajectories_h2, axis=0)\n",
    "# print(mean_trajectory_h1.shape,mean_trajectory_h2.shape)\n",
    "\n",
    "# Step 2: Stack mean trajectories\n",
    "# mean_trajectories_stacked = np.vstack((mean_trajectory_h1, mean_trajectory_h2)) # just like eqn given\n",
    "mean_trajectories_stacked = np.vstack((trajectories_h1, trajectories_h2)) # just like eqn given\n",
    "\n",
    "# Step 3: Compute covariance matrix\n",
    "covariance_matrix = np.cov(mean_trajectories_stacked)\n",
    "\n",
    "# Step 4: Compute eigenvalues and eigenvectors\n",
    "eigenvalues, eigenvectors = np.linalg.eig(covariance_matrix)\n",
    "\n",
    "# Step 5: Sort eigenvectors based on eigenvalues\n",
    "sorted_indices = np.argsort(eigenvalues)[::-1]\n",
    "sorted_eigenvalues = eigenvalues[sorted_indices]\n",
    "sorted_eigenvectors = eigenvectors[:, sorted_indices]\n",
    "\n",
    "# Step 6: Leading spatial POD mode\n",
    "leading_spatial_mode = sorted_eigenvectors[:, 0]\n",
    "\n",
    "print(f'the leading spatial mode is {leading_spatial_mode}')"
   ]
  },
  {
   "cell_type": "code",
   "execution_count": 6,
   "id": "53363bab-4242-4f3d-8f78-4337979dbe23",
   "metadata": {
    "tags": []
   },
   "outputs": [
    {
     "data": {
      "text/plain": [
       "(2002,)"
      ]
     },
     "execution_count": 6,
     "metadata": {},
     "output_type": "execute_result"
    }
   ],
   "source": [
    "leading_spatial_mode.shape"
   ]
  },
  {
   "cell_type": "code",
   "execution_count": 23,
   "id": "52c1b424-a28d-40f5-8635-87cd4b9a5423",
   "metadata": {
    "tags": []
   },
   "outputs": [
    {
     "name": "stderr",
     "output_type": "stream",
     "text": [
      "100%|██████████| 1000/1000 [00:02<00:00, 350.83it/s]"
     ]
    },
    {
     "name": "stdout",
     "output_type": "stream",
     "text": [
      "num_trajectories: 1000, num_time_steps: 1001\n",
      "(1001, 1000) (1001, 1000)\n",
      "perform time averaging - take mean across time dimension\n",
      "(1000,) (1000,)\n",
      "(2, 1000)\n",
      "(2, 2)\n",
      "the leading spatial mode is [0. 1.]\n"
     ]
    },
    {
     "name": "stderr",
     "output_type": "stream",
     "text": [
      "\n"
     ]
    }
   ],
   "source": [
    "import numpy as np\n",
    "\n",
    "# Define parameters\n",
    "num_time_steps = 10**3\n",
    "num_trajectories = 10**3\n",
    "delta_t = 10**-3\n",
    "\n",
    "# Initialize arrays to store trajectories\n",
    "trajectories_h1 = np.zeros((num_time_steps+1,num_trajectories))\n",
    "trajectories_h2 = np.zeros((num_time_steps+1,num_trajectories))\n",
    "\n",
    "# Iterate over trajectories\n",
    "for i in tqdm(range(num_trajectories)):\n",
    "    # Initialize h1 and h2 for each trajectory\n",
    "    h1, h2 = 0, 0\n",
    "    \n",
    "    # Iterate over time steps\n",
    "    for j in range(num_time_steps+1):\n",
    "        # Sample input x\n",
    "        x = np.random.normal(0, 1)\n",
    "        \n",
    "        # Update h1 and h2 using Euler method\n",
    "        h1 += -delta_t * h1\n",
    "        h2 += -10 * delta_t * h2 + 10**-3 * delta_t * x\n",
    "        \n",
    "        # Store values\n",
    "        trajectories_h1[j, i] = h1\n",
    "        trajectories_h2[j, i] = h2\n",
    "        \n",
    "print(f'num_trajectories: {num_trajectories}, num_time_steps: {num_time_steps+1}')\n",
    "print(trajectories_h1.shape,trajectories_h2.shape)\n",
    "\n",
    "# POD \n",
    "# Step 1: Compute mean trajectory - time averaging\n",
    "print('perform time averaging - take mean across time dimension')\n",
    "# np.mean(x,axis=0) means taking average across column, axis=1 means take ave across row\n",
    "mean_trajectory_h1 = np.mean(trajectories_h1, axis=0)\n",
    "mean_trajectory_h2 = np.mean(trajectories_h2, axis=0)\n",
    "print(mean_trajectory_h1.shape,mean_trajectory_h2.shape)\n",
    "\n",
    "# Step 2: Stack mean trajectories\n",
    "mean_trajectories_stacked = np.vstack((mean_trajectory_h1, mean_trajectory_h2)) # just like eqn given\n",
    "# mean_trajectories_stacked = np.vstack((trajectories_h1, trajectories_h2)) # just like eqn given\n",
    "print(mean_trajectories_stacked.shape)\n",
    "\n",
    "# Step 3: Compute covariance matrix\n",
    "covariance_matrix = np.cov(mean_trajectories_stacked)\n",
    "print(covariance_matrix.shape)\n",
    "\n",
    "# Step 4: Compute eigenvalues and eigenvectors\n",
    "eigenvalues, eigenvectors = np.linalg.eig(covariance_matrix)\n",
    "\n",
    "# Step 5: Sort eigenvectors based on eigenvalues\n",
    "sorted_indices = np.argsort(eigenvalues)[::-1]\n",
    "sorted_eigenvalues = eigenvalues[sorted_indices]\n",
    "sorted_eigenvectors = eigenvectors[:, sorted_indices]\n",
    "\n",
    "# Step 6: Leading spatial POD mode\n",
    "leading_spatial_mode = sorted_eigenvectors[:, 0]\n",
    "\n",
    "print(f'the leading spatial mode is {leading_spatial_mode}')"
   ]
  },
  {
   "cell_type": "code",
   "execution_count": null,
   "id": "ba7b6f62-33f1-4ca0-b859-005383f9fba6",
   "metadata": {
    "tags": []
   },
   "outputs": [],
   "source": [
    "leading_spatial_mode.shape"
   ]
  },
  {
   "cell_type": "code",
   "execution_count": 8,
   "id": "5fed4a26-a70c-4caa-81bf-1ddb438b7b35",
   "metadata": {
    "collapsed": true,
    "jupyter": {
     "outputs_hidden": true
    },
    "tags": []
   },
   "outputs": [
    {
     "name": "stderr",
     "output_type": "stream",
     "text": [
      "100%|██████████| 1000/1000 [00:04<00:00, 219.15it/s]"
     ]
    },
    {
     "name": "stdout",
     "output_type": "stream",
     "text": [
      "num_trajectories: 1000, num_time_steps: 1001\n",
      "(1001, 1000) (1001, 1000)\n",
      "perform time averaging - take mean across time dimension\n",
      "(1000,) (1000,)\n",
      "(1000,)\n",
      "the leading spatial mode is [-0.00813476 -0.99996691  0.          0.          0.          0.\n",
      "  0.          0.          0.          0.          0.          0.\n",
      "  0.          0.          0.          0.          0.          0.\n",
      "  0.          0.          0.          0.          0.          0.\n",
      "  0.          0.          0.          0.          0.          0.\n",
      "  0.          0.          0.          0.          0.          0.\n",
      "  0.          0.          0.          0.          0.          0.\n",
      "  0.          0.          0.          0.          0.          0.\n",
      "  0.          0.          0.          0.          0.          0.\n",
      "  0.          0.          0.          0.          0.          0.\n",
      "  0.          0.          0.          0.          0.          0.\n",
      "  0.          0.          0.          0.          0.          0.\n",
      "  0.          0.          0.          0.          0.          0.\n",
      "  0.          0.          0.          0.          0.          0.\n",
      "  0.          0.          0.          0.          0.          0.\n",
      "  0.          0.          0.          0.          0.          0.\n",
      "  0.          0.          0.          0.          0.          0.\n",
      "  0.          0.          0.          0.          0.          0.\n",
      "  0.          0.          0.          0.          0.          0.\n",
      "  0.          0.          0.          0.          0.          0.\n",
      "  0.          0.          0.          0.          0.          0.\n",
      "  0.          0.          0.          0.          0.          0.\n",
      "  0.          0.          0.          0.          0.          0.\n",
      "  0.          0.          0.          0.          0.          0.\n",
      "  0.          0.          0.          0.          0.          0.\n",
      "  0.          0.          0.          0.          0.          0.\n",
      "  0.          0.          0.          0.          0.          0.\n",
      "  0.          0.          0.          0.          0.          0.\n",
      "  0.          0.          0.          0.          0.          0.\n",
      "  0.          0.          0.          0.          0.          0.\n",
      "  0.          0.          0.          0.          0.          0.\n",
      "  0.          0.          0.          0.          0.          0.\n",
      "  0.          0.          0.          0.          0.          0.\n",
      "  0.          0.          0.          0.          0.          0.\n",
      "  0.          0.          0.          0.          0.          0.\n",
      "  0.          0.          0.          0.          0.          0.\n",
      "  0.          0.          0.          0.          0.          0.\n",
      "  0.          0.          0.          0.          0.          0.\n",
      "  0.          0.          0.          0.          0.          0.\n",
      "  0.          0.          0.          0.          0.          0.\n",
      "  0.          0.          0.          0.          0.          0.\n",
      "  0.          0.          0.          0.          0.          0.\n",
      "  0.          0.          0.          0.          0.          0.\n",
      "  0.          0.          0.          0.          0.          0.\n",
      "  0.          0.          0.          0.          0.          0.\n",
      "  0.          0.          0.          0.          0.          0.\n",
      "  0.          0.          0.          0.          0.          0.\n",
      "  0.          0.          0.          0.          0.          0.\n",
      "  0.          0.          0.          0.          0.          0.\n",
      "  0.          0.          0.          0.          0.          0.\n",
      "  0.          0.          0.          0.          0.          0.\n",
      "  0.          0.          0.          0.          0.          0.\n",
      "  0.          0.          0.          0.          0.          0.\n",
      "  0.          0.          0.          0.          0.          0.\n",
      "  0.          0.          0.          0.          0.          0.\n",
      "  0.          0.          0.          0.          0.          0.\n",
      "  0.          0.          0.          0.          0.          0.\n",
      "  0.          0.          0.          0.          0.          0.\n",
      "  0.          0.          0.          0.          0.          0.\n",
      "  0.          0.          0.          0.          0.          0.\n",
      "  0.          0.          0.          0.          0.          0.\n",
      "  0.          0.          0.          0.          0.          0.\n",
      "  0.          0.          0.          0.          0.          0.\n",
      "  0.          0.          0.          0.          0.          0.\n",
      "  0.          0.          0.          0.          0.          0.\n",
      "  0.          0.          0.          0.          0.          0.\n",
      "  0.          0.          0.          0.          0.          0.\n",
      "  0.          0.          0.          0.          0.          0.\n",
      "  0.          0.          0.          0.          0.          0.\n",
      "  0.          0.          0.          0.          0.          0.\n",
      "  0.          0.          0.          0.          0.          0.\n",
      "  0.          0.          0.          0.          0.          0.\n",
      "  0.          0.          0.          0.          0.          0.\n",
      "  0.          0.          0.          0.          0.          0.\n",
      "  0.          0.          0.          0.          0.          0.\n",
      "  0.          0.          0.          0.          0.          0.\n",
      "  0.          0.          0.          0.          0.          0.\n",
      "  0.          0.          0.          0.          0.          0.\n",
      "  0.          0.          0.          0.          0.          0.\n",
      "  0.          0.          0.          0.          0.          0.\n",
      "  0.          0.          0.          0.          0.          0.\n",
      "  0.          0.          0.          0.          0.          0.\n",
      "  0.          0.          0.          0.          0.          0.\n",
      "  0.          0.          0.          0.          0.          0.\n",
      "  0.          0.          0.          0.          0.          0.\n",
      "  0.          0.          0.          0.          0.          0.\n",
      "  0.          0.          0.          0.          0.          0.\n",
      "  0.          0.          0.          0.          0.          0.\n",
      "  0.          0.          0.          0.          0.          0.\n",
      "  0.          0.          0.          0.          0.          0.\n",
      "  0.          0.          0.          0.          0.          0.\n",
      "  0.          0.          0.          0.          0.          0.\n",
      "  0.          0.          0.          0.          0.          0.\n",
      "  0.          0.          0.          0.          0.          0.\n",
      "  0.          0.          0.          0.          0.          0.\n",
      "  0.          0.          0.          0.          0.          0.\n",
      "  0.          0.          0.          0.          0.          0.\n",
      "  0.          0.          0.          0.          0.          0.\n",
      "  0.          0.          0.          0.          0.          0.\n",
      "  0.          0.          0.          0.          0.          0.\n",
      "  0.          0.          0.          0.          0.          0.\n",
      "  0.          0.          0.          0.          0.          0.\n",
      "  0.          0.          0.          0.          0.          0.\n",
      "  0.          0.          0.          0.          0.          0.\n",
      "  0.          0.          0.          0.          0.          0.\n",
      "  0.          0.          0.          0.          0.          0.\n",
      "  0.          0.          0.          0.          0.          0.\n",
      "  0.          0.          0.          0.          0.          0.\n",
      "  0.          0.          0.          0.          0.          0.\n",
      "  0.          0.          0.          0.          0.          0.\n",
      "  0.          0.          0.          0.          0.          0.\n",
      "  0.          0.          0.          0.          0.          0.\n",
      "  0.          0.          0.          0.          0.          0.\n",
      "  0.          0.          0.          0.          0.          0.\n",
      "  0.          0.          0.          0.          0.          0.\n",
      "  0.          0.          0.          0.          0.          0.\n",
      "  0.          0.          0.          0.          0.          0.\n",
      "  0.          0.          0.          0.          0.          0.\n",
      "  0.          0.          0.          0.          0.          0.\n",
      "  0.          0.          0.          0.          0.          0.\n",
      "  0.          0.          0.          0.          0.          0.\n",
      "  0.          0.          0.          0.          0.          0.\n",
      "  0.          0.          0.          0.          0.          0.\n",
      "  0.          0.          0.          0.          0.          0.\n",
      "  0.          0.          0.          0.          0.          0.\n",
      "  0.          0.          0.          0.          0.          0.\n",
      "  0.          0.          0.          0.          0.          0.\n",
      "  0.          0.          0.          0.          0.          0.\n",
      "  0.          0.          0.          0.          0.          0.\n",
      "  0.          0.          0.          0.          0.          0.\n",
      "  0.          0.          0.          0.          0.          0.\n",
      "  0.          0.          0.          0.          0.          0.\n",
      "  0.          0.          0.          0.          0.          0.\n",
      "  0.          0.          0.          0.          0.          0.\n",
      "  0.          0.          0.          0.          0.          0.\n",
      "  0.          0.          0.          0.          0.          0.\n",
      "  0.          0.          0.          0.          0.          0.\n",
      "  0.          0.          0.          0.          0.          0.\n",
      "  0.          0.          0.          0.          0.          0.\n",
      "  0.          0.          0.          0.          0.          0.\n",
      "  0.          0.          0.          0.          0.          0.\n",
      "  0.          0.          0.          0.          0.          0.\n",
      "  0.          0.          0.          0.          0.          0.\n",
      "  0.          0.          0.          0.          0.          0.\n",
      "  0.          0.          0.          0.          0.          0.\n",
      "  0.          0.          0.          0.          0.          0.\n",
      "  0.          0.          0.          0.          0.          0.\n",
      "  0.          0.          0.          0.          0.          0.\n",
      "  0.          0.          0.          0.          0.          0.\n",
      "  0.          0.          0.          0.          0.          0.\n",
      "  0.          0.          0.          0.          0.          0.\n",
      "  0.          0.          0.          0.          0.          0.\n",
      "  0.          0.          0.          0.          0.          0.\n",
      "  0.          0.          0.          0.          0.          0.\n",
      "  0.          0.          0.          0.          0.          0.\n",
      "  0.          0.          0.          0.          0.          0.\n",
      "  0.          0.          0.          0.          0.          0.\n",
      "  0.          0.          0.          0.          0.          0.\n",
      "  0.          0.          0.          0.          0.          0.\n",
      "  0.          0.          0.          0.          0.          0.\n",
      "  0.          0.          0.          0.          0.          0.\n",
      "  0.          0.          0.          0.          0.          0.\n",
      "  0.          0.          0.          0.          0.          0.\n",
      "  0.          0.          0.          0.          0.          0.\n",
      "  0.          0.          0.          0.          0.          0.\n",
      "  0.          0.          0.          0.          0.          0.\n",
      "  0.          0.          0.          0.        ]\n"
     ]
    },
    {
     "name": "stderr",
     "output_type": "stream",
     "text": [
      "\n"
     ]
    }
   ],
   "source": [
    "import numpy as np\n",
    "\n",
    "# Define parameters\n",
    "num_time_steps = 10**3\n",
    "num_trajectories = 10**3\n",
    "delta_t = 10**-3\n",
    "\n",
    "# Initialize arrays to store trajectories\n",
    "trajectories_h1 = np.zeros((num_time_steps+1,num_trajectories))\n",
    "trajectories_h2 = np.zeros((num_time_steps+1,num_trajectories))\n",
    "\n",
    "# Iterate over trajectories\n",
    "for i in tqdm(range(num_trajectories)):\n",
    "    # Initialize h1 and h2 for each trajectory\n",
    "    h1, h2 = 0, 0\n",
    "    \n",
    "    # Iterate over time steps\n",
    "    for j in range(num_time_steps+1):\n",
    "        # Sample input x\n",
    "        x = np.random.normal(0, 1)\n",
    "        \n",
    "        # Update h1 and h2 using Euler method\n",
    "        h1 += -delta_t * h1\n",
    "        h2 += -10 * delta_t * h2 + 10**-3 * delta_t * x\n",
    "        \n",
    "        # Store values\n",
    "        trajectories_h1[j, i] = h1\n",
    "        trajectories_h2[j, i] = h2\n",
    "        \n",
    "print(f'num_trajectories: {num_trajectories}, num_time_steps: {num_time_steps+1}')\n",
    "print(trajectories_h1.shape,trajectories_h2.shape)\n",
    "\n",
    "# POD \n",
    "# Step 1: Compute mean trajectory - time vaveraging\n",
    "print('perform time averaging - take mean across time dimension')\n",
    "# np.mean(x,axis=0) means taking average across column, axis=1 means take ave across row\n",
    "mean_trajectory_h1 = np.mean(trajectories_h1, axis=0)\n",
    "mean_trajectory_h2 = np.mean(trajectories_h2, axis=0)\n",
    "print(mean_trajectory_h1.shape,mean_trajectory_h2.shape)\n",
    "\n",
    "# Step 2: Stack mean trajectories\n",
    "X_mean = np.vstack((mean_trajectory_h1, mean_trajectory_h2)) # just like eqn given\n",
    "\n",
    "# Step 3: Perform SVD of X_mean\n",
    "V, S, W = np.linalg.svd(X_mean)\n",
    "\n",
    "# Step 4: Extract the leading spatial mode - first column of Vt\n",
    "leading_spatial_mode = W[:,0]\n",
    "\n",
    "print(leading_spatial_mode.shape)\n",
    "print(f'the leading spatial mode is {leading_spatial_mode}')"
   ]
  },
  {
   "cell_type": "code",
   "execution_count": null,
   "id": "cd3b69f9-4f7f-4b52-bd3e-d9713853b1e1",
   "metadata": {},
   "outputs": [],
   "source": []
  },
  {
   "cell_type": "code",
   "execution_count": null,
   "id": "393aad69-7a45-406f-8081-1068cac77c9b",
   "metadata": {},
   "outputs": [],
   "source": []
  },
  {
   "cell_type": "code",
   "execution_count": 3,
   "id": "18b36945-f5c6-48a7-a644-be37727300c8",
   "metadata": {
    "tags": []
   },
   "outputs": [
    {
     "name": "stderr",
     "output_type": "stream",
     "text": [
      "100%|██████████| 1000/1000 [00:02<00:00, 350.13it/s]"
     ]
    },
    {
     "name": "stdout",
     "output_type": "stream",
     "text": [
      "num_trajectories: 1000, num_time_steps: 1001\n",
      "(1000, 1000) (1000, 1000)\n"
     ]
    },
    {
     "name": "stderr",
     "output_type": "stream",
     "text": [
      "\n"
     ]
    }
   ],
   "source": [
    "import numpy as np\n",
    "\n",
    "# Define parameters\n",
    "num_time_steps = 10**3\n",
    "num_trajectories = 10**3\n",
    "delta_t = 10**-3\n",
    "\n",
    "# Initialize arrays to store trajectories\n",
    "trajectories_h1 = np.zeros((num_time_steps,num_trajectories))\n",
    "trajectories_h2 = np.zeros((num_time_steps,num_trajectories))\n",
    "\n",
    "# Iterate over trajectories\n",
    "for i in tqdm(range(num_trajectories)):\n",
    "    # Initialize h1 and h2 for each trajectory\n",
    "    h1, h2 = 0, 0\n",
    "    \n",
    "    # Iterate over time steps\n",
    "    for j in range(num_time_steps):\n",
    "        # Sample input x\n",
    "        x = np.random.normal(0, 1)\n",
    "        \n",
    "        # Update h1 and h2 using Euler method\n",
    "        h1 += -delta_t * h1\n",
    "        h2 += -10 * delta_t * h2 + 10**-3 * delta_t * x\n",
    "        \n",
    "        # Store values\n",
    "        trajectories_h1[j, i] = h1\n",
    "        trajectories_h2[j, i] = h2\n",
    "        \n",
    "print(f'num_trajectories: {num_trajectories}, num_time_steps: {num_time_steps+1}')\n",
    "print(trajectories_h1.shape,trajectories_h2.shape)"
   ]
  },
  {
   "cell_type": "code",
   "execution_count": 23,
   "id": "11f3b2b0-42f9-4308-bf79-532944b1cee5",
   "metadata": {
    "tags": []
   },
   "outputs": [
    {
     "name": "stdout",
     "output_type": "stream",
     "text": [
      "(1000, 1000)\n",
      "(1000, 1000)\n",
      "(2, 1000, 1000)\n",
      "(2, 1000000)\n",
      "(2, 2)\n"
     ]
    },
    {
     "data": {
      "text/plain": [
       "(array([0.00000000e+00, 4.73925926e-11]),\n",
       " array([[1., 0.],\n",
       "        [0., 1.]]))"
      ]
     },
     "execution_count": 23,
     "metadata": {},
     "output_type": "execute_result"
    }
   ],
   "source": [
    "print(trajectories_h1.shape)\n",
    "print(trajectories_h2.shape)\n",
    "\n",
    "stacked = np.stack([trajectories_h1,trajectories_h2])\n",
    "print(stacked.shape)\n",
    "\n",
    "stacked = stacked.reshape(2,-1)\n",
    "print(stacked.shape)\n",
    "\n",
    "cov_mat = np.cov(stacked)\n",
    "print(cov_mat.shape)\n",
    "\n",
    "eigenvalues, eigenvectors = np.linalg.eigh(cov_mat)\n",
    "eigenvalues, eigenvectors"
   ]
  },
  {
   "cell_type": "code",
   "execution_count": 18,
   "id": "567a4460-e5f1-46e1-9e50-982e221b63fe",
   "metadata": {
    "tags": []
   },
   "outputs": [
    {
     "data": {
      "text/plain": [
       "(2, 2)"
      ]
     },
     "execution_count": 18,
     "metadata": {},
     "output_type": "execute_result"
    }
   ],
   "source": [
    "cov_mat = np.cov()"
   ]
  },
  {
   "cell_type": "code",
   "execution_count": 22,
   "id": "37970312-94ae-411e-998c-f8f88dda5ccc",
   "metadata": {
    "tags": []
   },
   "outputs": [
    {
     "data": {
      "text/plain": [
       "(array([0.00000000e+00, 4.73925926e-11]),\n",
       " array([[1., 0.],\n",
       "        [0., 1.]]))"
      ]
     },
     "execution_count": 22,
     "metadata": {},
     "output_type": "execute_result"
    }
   ],
   "source": [
    "from scipy.sparse.linalg import svds\n",
    "\n",
    "# Step 3: Perform SVD of X_mean\n",
    "V, S, W = svd(cov_mat)\n",
    "\n",
    "# # Step 4: Extract the leading spatial mode - first column of Vt\n",
    "# leading_spatial_mode = W[:,0]\n",
    "\n",
    "# print(leading_spatial_mode.shape)\n",
    "# print(f'the leading spatial mode is {leading_spatial_mode}')"
   ]
  },
  {
   "cell_type": "code",
   "execution_count": null,
   "id": "8946bc95-b37f-4259-a214-59f3e495c265",
   "metadata": {},
   "outputs": [],
   "source": []
  },
  {
   "cell_type": "code",
   "execution_count": null,
   "id": "67ce7707-53b6-4e1a-8505-5370d098c1d8",
   "metadata": {},
   "outputs": [
    {
     "name": "stderr",
     "output_type": "stream",
     "text": [
      "100%|██████████| 1000/1000 [00:02<00:00, 352.37it/s]"
     ]
    },
    {
     "name": "stdout",
     "output_type": "stream",
     "text": [
      "num_trajectories: 1000, num_time_steps: 1001\n",
      "(1000, 1000) (1000, 1000)\n"
     ]
    },
    {
     "name": "stderr",
     "output_type": "stream",
     "text": [
      "\n"
     ]
    }
   ],
   "source": [
    "# import numpy as np\n",
    "\n",
    "# Define parameters\n",
    "num_time_steps = 10**3\n",
    "num_trajectories = 10**3\n",
    "delta_t = 10**-3\n",
    "\n",
    "# Initialize arrays to store trajectories\n",
    "trajectories_h1 = np.zeros((num_time_steps,num_trajectories))\n",
    "trajectories_h2 = np.zeros((num_time_steps,num_trajectories))\n",
    "\n",
    "# Iterate over trajectories\n",
    "for i in tqdm(range(num_trajectories)):\n",
    "    # Initialize h1 and h2 for each trajectory\n",
    "    h1, h2 = 0, 0\n",
    "    \n",
    "    # Iterate over time steps\n",
    "    for j in range(num_time_steps):\n",
    "        # Sample input x\n",
    "        x = np.random.normal(0, 1)\n",
    "        \n",
    "        # Update h1 and h2 using Euler method\n",
    "        h1 += -delta_t * h1\n",
    "        h2 += -10 * delta_t * h2 + 10**-3 * delta_t * x\n",
    "        \n",
    "        # Store values\n",
    "        trajectories_h1[j, i] = h1\n",
    "        trajectories_h2[j, i] = h2\n",
    "        \n",
    "print(f'num_trajectories: {num_trajectories}, num_time_steps: {num_time_steps+1}')\n",
    "print(trajectories_h1.shape,trajectories_h2.shape)"
   ]
  },
  {
   "cell_type": "code",
   "execution_count": 8,
   "id": "23030b40-01bb-4f7f-9207-2b816e58044e",
   "metadata": {
    "tags": []
   },
   "outputs": [
    {
     "data": {
      "text/plain": [
       "array([[0.],\n",
       "       [0.]])"
      ]
     },
     "execution_count": 8,
     "metadata": {},
     "output_type": "execute_result"
    }
   ],
   "source": [
    "h[0]"
   ]
  },
  {
   "cell_type": "code",
   "execution_count": 9,
   "id": "5fb016a0-9f98-4761-9f27-c75324f58234",
   "metadata": {
    "tags": []
   },
   "outputs": [
    {
     "name": "stdout",
     "output_type": "stream",
     "text": [
      "shape of trajectories: (1000, 1000, 2, 1)\n"
     ]
    },
    {
     "name": "stderr",
     "output_type": "stream",
     "text": [
      "100%|██████████| 1000/1000 [00:05<00:00, 173.34it/s]\n"
     ]
    },
    {
     "data": {
      "text/plain": [
       "(array([1.39813494e-10, 4.79946361e+01]),\n",
       " array([[-1.00000000e+00, -1.74597648e-06],\n",
       "        [ 1.74597648e-06, -1.00000000e+00]]))"
      ]
     },
     "execution_count": 9,
     "metadata": {},
     "output_type": "execute_result"
    }
   ],
   "source": [
    "import numpy as np\n",
    "from tqdm import tqdm\n",
    "\n",
    "# Define matrices A and B from eq 1.1\n",
    "A = np.array([\n",
    "    [-1, 0],\n",
    "    [0, -10],\n",
    "])\n",
    "\n",
    "B = np.array([\n",
    "    [10**(-3)],\n",
    "    [10**(3)]\n",
    "])\n",
    "\n",
    "\n",
    "num_time_steps = 10**3\n",
    "num_trajectories = 10**3\n",
    "delta_t = 10**-3\n",
    "\n",
    "# initialise trajectories \n",
    "trajectories = np.zeros(shape=[num_trajectories,num_time_steps,2,1])\n",
    "print(f'shape of trajectories: {trajectories.shape}')\n",
    "\n",
    "# Iterate over trajectories\n",
    "for i in tqdm(range(num_trajectories)):\n",
    "    \n",
    "    # Initialise h to 0\n",
    "    h = np.zeros([num_time_steps,2,1])\n",
    "    \n",
    "    # Sample input x using normal distribution\n",
    "    x = np.random.normal(0, 1, num_time_steps)\n",
    "\n",
    "    for j in range(1,num_time_steps):\n",
    "        # update formula\n",
    "        h[j] = h[j-1] + delta_t * (A @ h[j-1] + B * x[j-1])\n",
    "        \n",
    "    trajectories[i] = h\n",
    "    \n",
    "# flatten the array\n",
    "trajectories = trajectories.reshape(num_time_steps*num_trajectories,2)\n",
    "\n",
    "# transpose the trajectories to pass into covariance matriz\n",
    "trajectories = trajectories.T\n",
    "\n",
    "# calculate covariance matrix\n",
    "covariance_matrix = np.cov(trajectories)\n",
    "\n",
    "# perform eigendecomposition to do POD\n",
    "np.linalg.eig(covariance_matrix)"
   ]
  },
  {
   "cell_type": "code",
   "execution_count": null,
   "id": "4218f6e1-2dba-4f0f-85fe-560d2e23ad96",
   "metadata": {},
   "outputs": [],
   "source": []
  },
  {
   "cell_type": "code",
   "execution_count": null,
   "id": "3529f549-9049-4cf8-8508-31cdd16d8d3f",
   "metadata": {},
   "outputs": [],
   "source": []
  },
  {
   "cell_type": "code",
   "execution_count": null,
   "id": "90528ada-d806-4769-8e72-c61d83547354",
   "metadata": {},
   "outputs": [],
   "source": []
  },
  {
   "cell_type": "code",
   "execution_count": 3,
   "id": "4bef0e04-1061-44c9-82b0-3acea5ba98db",
   "metadata": {
    "tags": []
   },
   "outputs": [
    {
     "data": {
      "text/plain": [
       "(array([1.37308272e-10, 4.84041215e+01]),\n",
       " array([[-1.00000000e+00,  1.73191119e-06],\n",
       "        [ 1.73191119e-06,  1.00000000e+00]]))"
      ]
     },
     "execution_count": 3,
     "metadata": {},
     "output_type": "execute_result"
    }
   ],
   "source": [
    "cov_mat = np.cov(trajectories.T)\n",
    "np.linalg.eigh(cov_mat)"
   ]
  },
  {
   "cell_type": "code",
   "execution_count": 4,
   "id": "64174f35-208b-4ce8-9bf8-2e9c6cb58439",
   "metadata": {
    "tags": []
   },
   "outputs": [
    {
     "data": {
      "text/plain": [
       "(array([1.37305278e-10, 4.84041215e+01]),\n",
       " array([[-1.00000000e+00, -1.73191119e-06],\n",
       "        [ 1.73191119e-06, -1.00000000e+00]]))"
      ]
     },
     "execution_count": 4,
     "metadata": {},
     "output_type": "execute_result"
    }
   ],
   "source": [
    "np.linalg.eig(cov_mat)"
   ]
  },
  {
   "cell_type": "markdown",
   "id": "a269030a-1c37-4257-9332-cbe204873bfe",
   "metadata": {
    "jp-MarkdownHeadingCollapsed": true,
    "tags": []
   },
   "source": [
    "# 1c \n",
    "\n",
    "since x(t) is sampled independently and identically distributed for each t from a Normal distribution, it would be appropriate to use leading DMD which is a general method to extract dominant modes that evolve independently in time"
   ]
  },
  {
   "cell_type": "code",
   "execution_count": 33,
   "id": "8b822bc5-3cde-4730-8be4-cd6f7f45066c",
   "metadata": {
    "tags": []
   },
   "outputs": [
    {
     "name": "stdout",
     "output_type": "stream",
     "text": [
      "[[4.32332358e+05 9.09075726e-02]\n",
      " [9.09075726e-02 4.99999999e+04]]\n",
      "eigenvalue: 432332.35838171525, eigenvector: [1.00000000e+00 2.37771066e-07]\n",
      "eigenvalue: 49999.9998969207, eigenvector: [-2.37771066e-07  1.00000000e+00]\n"
     ]
    }
   ],
   "source": [
    "# 1h\n",
    "import math\n",
    "\n",
    "mat = np.array([\n",
    "    [(-10**6 /2)*(math.exp(-2)-1),(-1/11)*(math.exp(-11)-1)],\n",
    "    [(-1/11)*(math.exp(-11)-1),(-10**6 /20)*(math.exp(-20)-1)]\n",
    "]) \n",
    "print(mat)\n",
    "\n",
    "eigenvalues, eigenvectors = np.linalg.eig(mat)\n",
    "for i in range(len(eigenvalues)):\n",
    "    print(f'eigenvalue: {eigenvalues[i]}, eigenvector: {eigenvectors[:,i]}')\n"
   ]
  },
  {
   "cell_type": "code",
   "execution_count": 34,
   "id": "fe4ae2c9-76ff-42d7-a94f-5bc07ce2c6d5",
   "metadata": {
    "tags": []
   },
   "outputs": [
    {
     "name": "stdout",
     "output_type": "stream",
     "text": [
      "[[5.00000000e-10 9.99990000e-04]\n",
      " [9.99990000e-04 9.90066335e+05]]\n",
      "eigenvalue: 5.820766091346741e-10, eigenvector: [-1.00000000e+00  1.01002323e-09]\n",
      "eigenvalue: 990066.3346622373, eigenvector: [-1.01002323e-09 -1.00000000e+00]\n"
     ]
    }
   ],
   "source": [
    "# 1i\n",
    "import math\n",
    "\n",
    "mat = np.array([\n",
    "    [((10**-6)/(-2*10**3))*(math.exp(-2*10**3)-1),(1/(-10**-2 -10**3))*(math.exp(-10**-2 -10**3)-1)],\n",
    "    [(1/(-10**-2 -10**3))*(math.exp(-10**-2 -10**3)-1),((10**6)/(-2*10**-2))*(math.exp(-2*10**-2)-1)],\n",
    "]) \n",
    "print(mat)\n",
    "\n",
    "eigenvalues, eigenvectors = np.linalg.eig(mat)\n",
    "for i in range(len(eigenvalues)):\n",
    "    print(f'eigenvalue: {eigenvalues[i]}, eigenvector: {eigenvectors[:,i]}')\n"
   ]
  },
  {
   "cell_type": "code",
   "execution_count": null,
   "id": "cae847b4-7266-4128-bb1c-15bac460dee5",
   "metadata": {},
   "outputs": [],
   "source": []
  }
 ],
 "metadata": {
  "kernelspec": {
   "display_name": "dsa5204",
   "language": "python",
   "name": "dsa5204"
  },
  "language_info": {
   "codemirror_mode": {
    "name": "ipython",
    "version": 3
   },
   "file_extension": ".py",
   "mimetype": "text/x-python",
   "name": "python",
   "nbconvert_exporter": "python",
   "pygments_lexer": "ipython3",
   "version": "3.7.9"
  }
 },
 "nbformat": 4,
 "nbformat_minor": 5
}
